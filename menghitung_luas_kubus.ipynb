{
  "nbformat": 4,
  "nbformat_minor": 0,
  "metadata": {
    "colab": {
      "provenance": [],
      "authorship_tag": "ABX9TyMSrF3Db/bEaAOYlyfBuvKU",
      "include_colab_link": true
    },
    "kernelspec": {
      "name": "python3",
      "display_name": "Python 3"
    },
    "language_info": {
      "name": "python"
    }
  },
  "cells": [
    {
      "cell_type": "markdown",
      "metadata": {
        "id": "view-in-github",
        "colab_type": "text"
      },
      "source": [
        "<a href=\"https://colab.research.google.com/github/Faris266/Tugas-2-PBO/blob/main/menghitung_luas_kubus.ipynb\" target=\"_parent\"><img src=\"https://colab.research.google.com/assets/colab-badge.svg\" alt=\"Open In Colab\"/></a>"
      ]
    },
    {
      "cell_type": "code",
      "execution_count": 1,
      "metadata": {
        "colab": {
          "base_uri": "https://localhost:8080/"
        },
        "id": "Ms492zFiw-2E",
        "outputId": "a0a923ab-aadb-410c-b302-d9967d95dda3"
      },
      "outputs": [
        {
          "output_type": "stream",
          "name": "stdout",
          "text": [
            "Volume Kubus: 125 cm³\n",
            "Luas Permukaan Kubus: 150 cm²\n"
          ]
        }
      ],
      "source": [
        "class Kubus:\n",
        "    def __init__(self, sisi):\n",
        "        self.sisi = sisi\n",
        "\n",
        "    def volume(self):\n",
        "        return self.sisi ** 3\n",
        "\n",
        "    def luas_permukaan(self):\n",
        "        return 6 * (self.sisi ** 2)\n",
        "\n",
        "# Membuat objek\n",
        "kubus1 = Kubus(5)\n",
        "print(f\"Volume Kubus: {kubus1.volume()} cm³\")\n",
        "print(f\"Luas Permukaan Kubus: {kubus1.luas_permukaan()} cm²\")\n"
      ]
    }
  ]
}