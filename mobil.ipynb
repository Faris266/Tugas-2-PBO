{
  "nbformat": 4,
  "nbformat_minor": 0,
  "metadata": {
    "colab": {
      "provenance": [],
      "authorship_tag": "ABX9TyNM+cE1tRcBzSxf0CtOgffz",
      "include_colab_link": true
    },
    "kernelspec": {
      "name": "python3",
      "display_name": "Python 3"
    },
    "language_info": {
      "name": "python"
    }
  },
  "cells": [
    {
      "cell_type": "markdown",
      "metadata": {
        "id": "view-in-github",
        "colab_type": "text"
      },
      "source": [
        "<a href=\"https://colab.research.google.com/github/Faris266/Tugas-2-PBO/blob/main/mobil.ipynb\" target=\"_parent\"><img src=\"https://colab.research.google.com/assets/colab-badge.svg\" alt=\"Open In Colab\"/></a>"
      ]
    },
    {
      "cell_type": "code",
      "execution_count": 1,
      "metadata": {
        "colab": {
          "base_uri": "https://localhost:8080/"
        },
        "id": "pBBidvTqf5Pr",
        "outputId": "80ee270e-6dd6-4bd5-aa3b-93db1f069dc7"
      },
      "outputs": [
        {
          "output_type": "stream",
          "name": "stdout",
          "text": [
            "Mobil Toyota berwarna Merah\n",
            "Mobil Honda berwarna Hitam\n"
          ]
        }
      ],
      "source": [
        "class Mobil:\n",
        "    def __init__(self, merk, warna):\n",
        "        self.merk = merk\n",
        "        self.warna = warna\n",
        "\n",
        "    def info(self):\n",
        "        return f\"Mobil {self.merk} berwarna {self.warna}\"\n",
        "\n",
        "# Membuat objek\n",
        "mobil1 = Mobil(\"Toyota\", \"Merah\")\n",
        "mobil2 = Mobil(\"Honda\", \"Hitam\")\n",
        "\n",
        "print(mobil1.info())\n",
        "print(mobil2.info())\n"
      ]
    }
  ]
}