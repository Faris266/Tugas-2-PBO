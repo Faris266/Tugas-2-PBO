{
  "nbformat": 4,
  "nbformat_minor": 0,
  "metadata": {
    "colab": {
      "provenance": [],
      "authorship_tag": "ABX9TyM5DqAxWf03Z6FtD3pducLe",
      "include_colab_link": true
    },
    "kernelspec": {
      "name": "python3",
      "display_name": "Python 3"
    },
    "language_info": {
      "name": "python"
    }
  },
  "cells": [
    {
      "cell_type": "markdown",
      "metadata": {
        "id": "view-in-github",
        "colab_type": "text"
      },
      "source": [
        "<a href=\"https://colab.research.google.com/github/Faris266/Tugas-2-PBO/blob/main/buku.ipynb\" target=\"_parent\"><img src=\"https://colab.research.google.com/assets/colab-badge.svg\" alt=\"Open In Colab\"/></a>"
      ]
    },
    {
      "cell_type": "code",
      "execution_count": 2,
      "metadata": {
        "colab": {
          "base_uri": "https://localhost:8080/"
        },
        "id": "wrP4NdlmhnTU",
        "outputId": "55983a4d-d727-42fd-9931-f7ec9eb130dd"
      },
      "outputs": [
        {
          "output_type": "stream",
          "name": "stdout",
          "text": [
            "Buku: python untuk pemula, Harga: Rp85000\n"
          ]
        }
      ],
      "source": [
        "class Buku:\n",
        "    def __init__(self, judul, penulis, harga):\n",
        "        self.judul = judul\n",
        "        self.harga = harga\n",
        "\n",
        "    def detail_buku(self):\n",
        "        return f\"Buku: {self.judul}, Harga: Rp{self.harga}\"\n",
        "\n",
        "# Membuat objek\n",
        "buku1 = Buku(\"python untuk pemula\", \"Andrea Hirata\", 85000)\n",
        "print(buku1.detail_buku())\n"
      ]
    }
  ]
}