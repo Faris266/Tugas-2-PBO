{
  "nbformat": 4,
  "nbformat_minor": 0,
  "metadata": {
    "colab": {
      "provenance": [],
      "authorship_tag": "ABX9TyNk0Prvt6JZ2wOyxATLR5+a",
      "include_colab_link": true
    },
    "kernelspec": {
      "name": "python3",
      "display_name": "Python 3"
    },
    "language_info": {
      "name": "python"
    }
  },
  "cells": [
    {
      "cell_type": "markdown",
      "metadata": {
        "id": "view-in-github",
        "colab_type": "text"
      },
      "source": [
        "<a href=\"https://colab.research.google.com/github/Faris266/Tugas-2-PBO/blob/main/pegawai.ipynb\" target=\"_parent\"><img src=\"https://colab.research.google.com/assets/colab-badge.svg\" alt=\"Open In Colab\"/></a>"
      ]
    },
    {
      "cell_type": "code",
      "execution_count": 1,
      "metadata": {
        "colab": {
          "base_uri": "https://localhost:8080/"
        },
        "id": "NV8TZgIWxdEO",
        "outputId": "ca0c8e63-6bb6-4e86-914c-35ac8484cf31"
      },
      "outputs": [
        {
          "output_type": "stream",
          "name": "stdout",
          "text": [
            "Gaji Rina: Rp6000000\n"
          ]
        }
      ],
      "source": [
        "class Pegawai:\n",
        "    def __init__(self, nama, gaji_pokok):\n",
        "        self.nama = nama\n",
        "        self.gaji_pokok = gaji_pokok\n",
        "\n",
        "    def hitung_gaji(self, bonus):\n",
        "        return self.gaji_pokok + bonus\n",
        "\n",
        "# Membuat objek\n",
        "pegawai1 = Pegawai(\"Rina\", 5000000)\n",
        "print(f\"Gaji {pegawai1.nama}: Rp{pegawai1.hitung_gaji(1000000)}\")\n"
      ]
    }
  ]
}